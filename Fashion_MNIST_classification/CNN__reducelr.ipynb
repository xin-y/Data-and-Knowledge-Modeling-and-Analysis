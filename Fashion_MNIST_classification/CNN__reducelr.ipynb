{
  "nbformat": 4,
  "nbformat_minor": 0,
  "metadata": {
    "colab": {
      "name": "CNN _reducelr.ipynb",
      "provenance": [],
      "collapsed_sections": []
    },
    "kernelspec": {
      "name": "python3",
      "display_name": "Python 3"
    },
    "accelerator": "GPU"
  },
  "cells": [
    {
      "cell_type": "code",
      "metadata": {
        "id": "c2EH7b7gpxif",
        "colab_type": "code",
        "colab": {}
      },
      "source": [
        "import numpy as np # linear algebra\n",
        "import pandas as pd # data processing, CSV file I/O (e.g. pd.read_csv)\n",
        "from keras.utils import to_categorical\n",
        "import numpy as np\n",
        "import pandas as pd\n",
        "from sklearn.model_selection import train_test_split\n",
        "import tensorflow as tf\n",
        "import os\n",
        "import tensorflow_datasets as tfds\n",
        "# Deep Learning Libraries\n",
        "from tensorflow.python import keras\n",
        "from keras.models import Sequential, load_model\n",
        "from keras.layers import Dense, Dropout, Flatten,Activation\n",
        "from keras.layers import Conv2D, MaxPooling2D, BatchNormalization,ZeroPadding2D\n",
        "from keras.optimizers import Adam,SGD,Adagrad,Adadelta,RMSprop\n",
        "from keras.preprocessing.image import ImageDataGenerator\n",
        "from keras.callbacks import ReduceLROnPlateau, LearningRateScheduler\n",
        "from keras.utils import to_categorical\n",
        "from keras.utils import plot_model\n",
        "from IPython.display import SVG"
      ],
      "execution_count": null,
      "outputs": []
    },
    {
      "cell_type": "code",
      "metadata": {
        "id": "6hs9Gkyop92h",
        "colab_type": "code",
        "colab": {
          "base_uri": "https://localhost:8080/",
          "height": 52
        },
        "outputId": "c7ce91c4-b0de-4e24-ead9-ed8fbb07c306"
      },
      "source": [
        "train_df = pd.read_csv('train.csv')\n",
        "test_df = pd.read_csv('testX.csv')\n",
        "#train_df.shape\n",
        "Y = train_df['Label']\n",
        "train_x = train_df.drop('Id',axis=1)\n",
        "X = train_x.drop('Label',axis=1)\n",
        "\n",
        "test_x = test_df.drop('Id',axis=1)\n",
        "print(X.shape)\n",
        "print(test_x.shape)"
      ],
      "execution_count": null,
      "outputs": [
        {
          "output_type": "stream",
          "text": [
            "(60000, 784)\n",
            "(10000, 784)\n"
          ],
          "name": "stdout"
        }
      ]
    },
    {
      "cell_type": "code",
      "metadata": {
        "id": "TF6sumHlpm7t",
        "colab_type": "code",
        "colab": {
          "base_uri": "https://localhost:8080/",
          "height": 52
        },
        "outputId": "3bdcdbf3-3f8d-4df7-f1bf-adb4b4ba3156"
      },
      "source": [
        "# Splitting Data into Train and Validation Set\n",
        "seed = 42\n",
        "np.random.seed(seed)\n",
        "x_train, x_val, y_train, y_val = train_test_split(X, Y, test_size=0.1, random_state=seed)\n",
        "print(x_train.shape)\n",
        "print(x_val.shape)"
      ],
      "execution_count": null,
      "outputs": [
        {
          "output_type": "stream",
          "text": [
            "(54000, 784)\n",
            "(6000, 784)\n"
          ],
          "name": "stdout"
        }
      ]
    },
    {
      "cell_type": "code",
      "metadata": {
        "id": "MU49eN4frQ7I",
        "colab_type": "code",
        "colab": {}
      },
      "source": [
        "x_train = x_train.values.reshape((-1, 28, 28, 1))\n",
        "x_val = x_val.values.reshape((-1, 28, 28, 1))\n",
        "test_x = test_x.values.reshape((-1, 28, 28, 1))\n",
        "\n",
        "x_train = x_train.astype(\"float32\")/255\n",
        "x_val = x_val.astype(\"float32\")/255\n",
        "test_x = test_x.astype(\"float32\")/255\n"
      ],
      "execution_count": null,
      "outputs": []
    },
    {
      "cell_type": "code",
      "metadata": {
        "id": "wOFQOK7wyp6c",
        "colab_type": "code",
        "colab": {
          "base_uri": "https://localhost:8080/",
          "height": 70
        },
        "outputId": "a86eaf9d-2390-408f-9fa5-231dbbbd8e09"
      },
      "source": [
        "print(\"Fashion MNIST train -  rows:\",x_train.shape[0],\" columns:\", x_train.shape[1:4])\n",
        "print(\"Fashion MNIST valid -  rows:\",x_val.shape[0],\" columns:\", x_val.shape[1:4])\n",
        "print(\"Fashion MNIST test -  rows:\",test_x.shape[0],\" columns:\", test_x.shape[1:4])"
      ],
      "execution_count": null,
      "outputs": [
        {
          "output_type": "stream",
          "text": [
            "Fashion MNIST train -  rows: 54000  columns: (28, 28, 1)\n",
            "Fashion MNIST valid -  rows: 6000  columns: (28, 28, 1)\n",
            "Fashion MNIST test -  rows: 10000  columns: (28, 28, 1)\n"
          ],
          "name": "stdout"
        }
      ]
    },
    {
      "cell_type": "code",
      "metadata": {
        "id": "LdgA7onw4lxP",
        "colab_type": "code",
        "colab": {
          "base_uri": "https://localhost:8080/",
          "height": 52
        },
        "outputId": "9d1b0018-3cc8-458d-bfbb-146803033361"
      },
      "source": [
        "y_train = to_categorical(y_train, num_classes=5)\n",
        "y_val = to_categorical(y_val, num_classes=5)\n",
        "print(y_train.shape)\n",
        "print(y_val.shape)"
      ],
      "execution_count": null,
      "outputs": [
        {
          "output_type": "stream",
          "text": [
            "(54000, 5)\n",
            "(6000, 5)\n"
          ],
          "name": "stdout"
        }
      ]
    },
    {
      "cell_type": "code",
      "metadata": {
        "id": "GZmn9hy7xr_T",
        "colab_type": "code",
        "colab": {}
      },
      "source": [
        "model = Sequential()\n",
        "dim = 28\n",
        "nclasses = 5\n",
        "# Block 1\n",
        "model.add(Conv2D(filters=32, kernel_size=(5,5), padding='same', activation='relu', input_shape=(dim,dim,1)))\n",
        "model.add(Conv2D(filters=32, kernel_size=(5,5), padding='same', activation='relu',))\n",
        "model.add(MaxPooling2D(pool_size=(2,2), strides=(2,2)))\n",
        "model.add(Dropout(0.2))\n",
        "# Block 2\n",
        "model.add(Conv2D(filters=64, kernel_size=(5,5), padding='same', activation='relu'))\n",
        "model.add(Conv2D(filters=64, kernel_size=(5,5), padding='same', activation='relu'))\n",
        "model.add(MaxPooling2D(pool_size=(2,2), strides=(2,2)))\n",
        "model.add(Dropout(0.2))\n",
        "\n",
        "model.add(Flatten())\n",
        "model.add(Dense(120, activation='relu'))\n",
        "model.add(Dense(84, activation='relu'))\n",
        "model.add(Dropout(0.3))\n",
        "model.add(Dense(5, activation='softmax'))"
      ],
      "execution_count": null,
      "outputs": []
    },
    {
      "cell_type": "code",
      "metadata": {
        "colab_type": "code",
        "id": "lXq_zihZJzUa",
        "colab": {
          "base_uri": "https://localhost:8080/",
          "height": 1000
        },
        "outputId": "49184f47-7a6f-4af3-90ef-63ee4a48772a"
      },
      "source": [
        "plot_model(model, to_file='model.png')\n"
      ],
      "execution_count": null,
      "outputs": [
        {
          "output_type": "execute_result",
          "data": {
            "image/png": "[encoded data removed]",
            "text/plain": [
              "<IPython.core.display.Image object>"
            ]
          },
          "metadata": {
            "tags": []
          },
          "execution_count": 53
        }
      ]
    },
    {
      "cell_type": "code",
      "metadata": {
        "id": "oelx2oRwGbGX",
        "colab_type": "code",
        "colab": {}
      },
      "source": [
        "optimizer = Adam(lr=0.001)"
      ],
      "execution_count": null,
      "outputs": []
    },
    {
      "cell_type": "code",
      "metadata": {
        "id": "TJDG2cL2c3f2",
        "colab_type": "code",
        "colab": {}
      },
      "source": [
        "model.compile(optimizer = optimizer, loss = \"categorical_crossentropy\", metrics=[\"accuracy\"])"
      ],
      "execution_count": null,
      "outputs": []
    },
    {
      "cell_type": "code",
      "metadata": {
        "id": "12xUdABdy8Ic",
        "colab_type": "code",
        "colab": {}
      },
      "source": [
        "epochs = 50 # for better result increase the epochs\n",
        "batch_size = 128"
      ],
      "execution_count": null,
      "outputs": []
    },
    {
      "cell_type": "code",
      "metadata": {
        "id": "yTwCHcFCKjHo",
        "colab_type": "code",
        "colab": {}
      },
      "source": [
        "# # Data Augmentation\n",
        "# datagen = ImageDataGenerator(\n",
        "#         featurewise_center=False,  # set input mean to 0 over the dataset\n",
        "#         samplewise_center=False,  # set each sample mean to 0\n",
        "#         featurewise_std_normalization=False,  # divide inputs by std of the dataset\n",
        "#         samplewise_std_normalization=False,  # divide each input by its std\n",
        "#         zca_whitening=False,  # dimesion reduction\n",
        "#         rotation_range=0.1,  # randomly rotate images in the range\n",
        "#         zoom_range = 0.1, # Randomly zoom image\n",
        "#         width_shift_range=0.1,  # randomly shift images horizontally\n",
        "#         height_shift_range=0.1,  # randomly shift images vertically\n",
        "#         horizontal_flip=False,  # randomly flip images\n",
        "#         vertical_flip=False)  # randomly flip images\n",
        "\n",
        "# datagen.fit(x_train)"
      ],
      "execution_count": null,
      "outputs": []
    },
    {
      "cell_type": "code",
      "metadata": {
        "id": "yFaqw-mBxWra",
        "colab_type": "code",
        "colab": {}
      },
      "source": [
        "# history = model.fit(x_train, y_train,\n",
        "#      batch_size=batch_size,\n",
        "#      epochs=epochs,\n",
        "#      validation_data=(x_val, y_val),\n",
        "#      shuffle=True,\n",
        "#      )"
      ],
      "execution_count": null,
      "outputs": []
    },
    {
      "cell_type": "code",
      "metadata": {
        "colab_type": "code",
        "id": "abidP9wIKeQQ",
        "colab": {
          "base_uri": "https://localhost:8080/",
          "height": 1000
        },
        "outputId": "7a78113d-11ae-47d9-c9f2-1848d2730de5"
      },
      "source": [
        "#Model\n",
        "lr_reducer = LearningRateScheduler(lambda x: 1e-3 * 0.9 ** x)\n",
        "callbacks = [ lr_reducer]\n",
        "history1 = model.fit(x_train, y_train,\n",
        "     batch_size=batch_size,\n",
        "     epochs=epochs,\n",
        "     validation_data=(x_val, y_val),\n",
        "     shuffle=True,\n",
        "     callbacks=callbacks)"
      ],
      "execution_count": null,
      "outputs": [
        {
          "output_type": "stream",
          "text": [
            "Train on 54000 samples, validate on 6000 samples\n",
            "Epoch 1/50\n",
            "54000/54000 [==============================] - 5s 97us/step - loss: 0.6806 - accuracy: 0.7150 - val_loss: 0.4665 - val_accuracy: 0.7997\n",
            "Epoch 2/50\n",
            "54000/54000 [==============================] - 5s 91us/step - loss: 0.4385 - accuracy: 0.8236 - val_loss: 0.4010 - val_accuracy: 0.8260\n",
            "Epoch 3/50\n",
            "54000/54000 [==============================] - 5s 91us/step - loss: 0.3807 - accuracy: 0.8472 - val_loss: 0.3126 - val_accuracy: 0.8717\n",
            "Epoch 4/50\n",
            "54000/54000 [==============================] - 5s 92us/step - loss: 0.3419 - accuracy: 0.8622 - val_loss: 0.3141 - val_accuracy: 0.8723\n",
            "Epoch 5/50\n",
            "54000/54000 [==============================] - 5s 92us/step - loss: 0.3166 - accuracy: 0.8748 - val_loss: 0.2958 - val_accuracy: 0.8822\n",
            "Epoch 6/50\n",
            "54000/54000 [==============================] - 5s 92us/step - loss: 0.2994 - accuracy: 0.8793 - val_loss: 0.2745 - val_accuracy: 0.8883\n",
            "Epoch 7/50\n",
            "54000/54000 [==============================] - 5s 93us/step - loss: 0.2773 - accuracy: 0.8878 - val_loss: 0.2617 - val_accuracy: 0.8963\n",
            "Epoch 8/50\n",
            "54000/54000 [==============================] - 5s 93us/step - loss: 0.2608 - accuracy: 0.8942 - val_loss: 0.2704 - val_accuracy: 0.8887\n",
            "Epoch 9/50\n",
            "54000/54000 [==============================] - 5s 91us/step - loss: 0.2498 - accuracy: 0.9001 - val_loss: 0.2571 - val_accuracy: 0.8997\n",
            "Epoch 10/50\n",
            "54000/54000 [==============================] - 5s 91us/step - loss: 0.2400 - accuracy: 0.9030 - val_loss: 0.2487 - val_accuracy: 0.9042\n",
            "Epoch 11/50\n",
            "54000/54000 [==============================] - 5s 92us/step - loss: 0.2289 - accuracy: 0.9070 - val_loss: 0.2746 - val_accuracy: 0.8900\n",
            "Epoch 12/50\n",
            "54000/54000 [==============================] - 5s 91us/step - loss: 0.2190 - accuracy: 0.9124 - val_loss: 0.2433 - val_accuracy: 0.9045\n",
            "Epoch 13/50\n",
            "54000/54000 [==============================] - 5s 91us/step - loss: 0.2065 - accuracy: 0.9172 - val_loss: 0.2538 - val_accuracy: 0.8998\n",
            "Epoch 14/50\n",
            "54000/54000 [==============================] - 5s 91us/step - loss: 0.2003 - accuracy: 0.9194 - val_loss: 0.2341 - val_accuracy: 0.9067\n",
            "Epoch 15/50\n",
            "54000/54000 [==============================] - 5s 91us/step - loss: 0.1900 - accuracy: 0.9236 - val_loss: 0.2417 - val_accuracy: 0.9035\n",
            "Epoch 16/50\n",
            "54000/54000 [==============================] - 5s 91us/step - loss: 0.1862 - accuracy: 0.9264 - val_loss: 0.2346 - val_accuracy: 0.9065\n",
            "Epoch 17/50\n",
            "54000/54000 [==============================] - 5s 91us/step - loss: 0.1804 - accuracy: 0.9265 - val_loss: 0.2333 - val_accuracy: 0.9122\n",
            "Epoch 18/50\n",
            "54000/54000 [==============================] - 5s 92us/step - loss: 0.1724 - accuracy: 0.9300 - val_loss: 0.2511 - val_accuracy: 0.9000\n",
            "Epoch 19/50\n",
            "54000/54000 [==============================] - 5s 91us/step - loss: 0.1715 - accuracy: 0.9327 - val_loss: 0.2486 - val_accuracy: 0.9042\n",
            "Epoch 20/50\n",
            "54000/54000 [==============================] - 5s 91us/step - loss: 0.1640 - accuracy: 0.9340 - val_loss: 0.2338 - val_accuracy: 0.9100\n",
            "Epoch 21/50\n",
            "54000/54000 [==============================] - 5s 91us/step - loss: 0.1617 - accuracy: 0.9347 - val_loss: 0.2361 - val_accuracy: 0.9083\n",
            "Epoch 22/50\n",
            "54000/54000 [==============================] - 5s 91us/step - loss: 0.1561 - accuracy: 0.9380 - val_loss: 0.2333 - val_accuracy: 0.9118\n",
            "Epoch 23/50\n",
            "54000/54000 [==============================] - 5s 92us/step - loss: 0.1545 - accuracy: 0.9383 - val_loss: 0.2402 - val_accuracy: 0.9092\n",
            "Epoch 24/50\n",
            "54000/54000 [==============================] - 5s 92us/step - loss: 0.1501 - accuracy: 0.9401 - val_loss: 0.2345 - val_accuracy: 0.9132\n",
            "Epoch 25/50\n",
            "54000/54000 [==============================] - 5s 92us/step - loss: 0.1479 - accuracy: 0.9402 - val_loss: 0.2347 - val_accuracy: 0.9123\n",
            "Epoch 26/50\n",
            "54000/54000 [==============================] - 5s 91us/step - loss: 0.1463 - accuracy: 0.9421 - val_loss: 0.2346 - val_accuracy: 0.9112\n",
            "Epoch 27/50\n",
            "54000/54000 [==============================] - 5s 91us/step - loss: 0.1427 - accuracy: 0.9434 - val_loss: 0.2330 - val_accuracy: 0.9132\n",
            "Epoch 28/50\n",
            "54000/54000 [==============================] - 5s 91us/step - loss: 0.1408 - accuracy: 0.9430 - val_loss: 0.2315 - val_accuracy: 0.9142\n",
            "Epoch 29/50\n",
            "54000/54000 [==============================] - 5s 91us/step - loss: 0.1381 - accuracy: 0.9457 - val_loss: 0.2300 - val_accuracy: 0.9143\n",
            "Epoch 30/50\n",
            "54000/54000 [==============================] - 5s 92us/step - loss: 0.1387 - accuracy: 0.9443 - val_loss: 0.2293 - val_accuracy: 0.9160\n",
            "Epoch 31/50\n",
            "54000/54000 [==============================] - 5s 91us/step - loss: 0.1329 - accuracy: 0.9474 - val_loss: 0.2332 - val_accuracy: 0.9147\n",
            "Epoch 32/50\n",
            "54000/54000 [==============================] - 5s 91us/step - loss: 0.1344 - accuracy: 0.9469 - val_loss: 0.2383 - val_accuracy: 0.9122\n",
            "Epoch 33/50\n",
            "54000/54000 [==============================] - 5s 91us/step - loss: 0.1321 - accuracy: 0.9470 - val_loss: 0.2350 - val_accuracy: 0.9135\n",
            "Epoch 34/50\n",
            "54000/54000 [==============================] - 5s 91us/step - loss: 0.1323 - accuracy: 0.9476 - val_loss: 0.2327 - val_accuracy: 0.9160\n",
            "Epoch 35/50\n",
            "54000/54000 [==============================] - 5s 91us/step - loss: 0.1307 - accuracy: 0.9481 - val_loss: 0.2396 - val_accuracy: 0.9125\n",
            "Epoch 36/50\n",
            "54000/54000 [==============================] - 5s 91us/step - loss: 0.1297 - accuracy: 0.9476 - val_loss: 0.2316 - val_accuracy: 0.9158\n",
            "Epoch 37/50\n",
            "54000/54000 [==============================] - 5s 93us/step - loss: 0.1282 - accuracy: 0.9480 - val_loss: 0.2382 - val_accuracy: 0.9130\n",
            "Epoch 38/50\n",
            "54000/54000 [==============================] - 5s 91us/step - loss: 0.1280 - accuracy: 0.9496 - val_loss: 0.2334 - val_accuracy: 0.9168\n",
            "Epoch 39/50\n",
            "54000/54000 [==============================] - 5s 92us/step - loss: 0.1284 - accuracy: 0.9483 - val_loss: 0.2334 - val_accuracy: 0.9157\n",
            "Epoch 40/50\n",
            "54000/54000 [==============================] - 5s 95us/step - loss: 0.1271 - accuracy: 0.9498 - val_loss: 0.2405 - val_accuracy: 0.9097\n",
            "Epoch 41/50\n",
            "54000/54000 [==============================] - 5s 94us/step - loss: 0.1263 - accuracy: 0.9493 - val_loss: 0.2341 - val_accuracy: 0.9148\n",
            "Epoch 42/50\n",
            "54000/54000 [==============================] - 5s 91us/step - loss: 0.1253 - accuracy: 0.9494 - val_loss: 0.2366 - val_accuracy: 0.9140\n",
            "Epoch 43/50\n",
            "54000/54000 [==============================] - 5s 92us/step - loss: 0.1255 - accuracy: 0.9491 - val_loss: 0.2362 - val_accuracy: 0.9143\n",
            "Epoch 44/50\n",
            "54000/54000 [==============================] - 5s 91us/step - loss: 0.1242 - accuracy: 0.9499 - val_loss: 0.2337 - val_accuracy: 0.9158\n",
            "Epoch 45/50\n",
            "54000/54000 [==============================] - 5s 92us/step - loss: 0.1265 - accuracy: 0.9486 - val_loss: 0.2395 - val_accuracy: 0.9118\n",
            "Epoch 46/50\n",
            "54000/54000 [==============================] - 5s 91us/step - loss: 0.1241 - accuracy: 0.9510 - val_loss: 0.2360 - val_accuracy: 0.9145\n",
            "Epoch 47/50\n",
            "54000/54000 [==============================] - 5s 91us/step - loss: 0.1248 - accuracy: 0.9503 - val_loss: 0.2361 - val_accuracy: 0.9152\n",
            "Epoch 48/50\n",
            "54000/54000 [==============================] - 5s 91us/step - loss: 0.1231 - accuracy: 0.9510 - val_loss: 0.2379 - val_accuracy: 0.9128\n",
            "Epoch 49/50\n",
            "54000/54000 [==============================] - 5s 92us/step - loss: 0.1239 - accuracy: 0.9512 - val_loss: 0.2362 - val_accuracy: 0.9157\n",
            "Epoch 50/50\n",
            "54000/54000 [==============================] - 5s 91us/step - loss: 0.1228 - accuracy: 0.9500 - val_loss: 0.2345 - val_accuracy: 0.9165\n"
          ],
          "name": "stdout"
        }
      ]
    },
    {
      "cell_type": "code",
      "metadata": {
        "id": "WKd59TU0c52S",
        "colab_type": "code",
        "colab": {
          "base_uri": "https://localhost:8080/",
          "height": 70
        },
        "outputId": "e48626cd-1902-49db-a9ee-6d49255aea21"
      },
      "source": [
        "score = model.evaluate(x_val, y_val)\n",
        "\n",
        "print('Loss: {:.4f}'.format(score[0]))\n",
        "print('Accuracy: {:.4f}'.format(score[1]))"
      ],
      "execution_count": null,
      "outputs": [
        {
          "output_type": "stream",
          "text": [
            "6000/6000 [==============================] - 0s 81us/step\n",
            "Loss: 0.2346\n",
            "Accuracy: 0.9165\n"
          ],
          "name": "stdout"
        }
      ]
    },
    {
      "cell_type": "code",
      "metadata": {
        "id": "fRaZdXgdohp5",
        "colab_type": "code",
        "colab": {
          "base_uri": "https://localhost:8080/",
          "height": 248
        },
        "outputId": "d0bb9b2e-c5b0-41f6-e77a-4fef628480c9"
      },
      "source": [
        "preds = model.predict_classes(test_x)\n",
        "print(preds)\n",
        "output=pd.DataFrame({'Id':test_df['Id'],'Label':preds})\n",
        "print(test_df['Id'])\n",
        "output.to_csv('output.csv',index=False)"
      ],
      "execution_count": null,
      "outputs": [
        {
          "output_type": "stream",
          "text": [
            "[4 4 0 ... 3 2 2]\n",
            "0          0\n",
            "1          1\n",
            "2          2\n",
            "3          3\n",
            "4          4\n",
            "        ... \n",
            "9995    9995\n",
            "9996    9996\n",
            "9997    9997\n",
            "9998    9998\n",
            "9999    9999\n",
            "Name: Id, Length: 10000, dtype: int64\n"
          ],
          "name": "stdout"
        }
      ]
    },
    {
      "cell_type": "code",
      "metadata": {
        "id": "o_bf-EAqvQa7",
        "colab_type": "code",
        "colab": {}
      },
      "source": [
        "# # Visualisation\n",
        "# import matplotlib as mpl\n",
        "# import matplotlib.pyplot as plt\n",
        "# import matplotlib.pylab as pylab\n",
        "# import seaborn as sns\n",
        "# import missingno as msno\n",
        "\n",
        "# plt.plot(history.history['loss'])\n",
        "# plt.plot(history.history['val_loss'])\n",
        "# plt.title(\"Model Loss\")\n",
        "# plt.xlabel('Epochs')\n",
        "# plt.ylabel('Loss')\n",
        "# plt.legend(['Train', 'Test'])\n",
        "# plt.show()"
      ],
      "execution_count": null,
      "outputs": []
    },
    {
      "cell_type": "code",
      "metadata": {
        "id": "8TkIqSiTwlVP",
        "colab_type": "code",
        "colab": {}
      },
      "source": [
        "# plt.plot(history.history['accuracy'])\n",
        "# plt.plot(history.history['val_accuracy'])\n",
        "# plt.title(\"Model Accuracy\")\n",
        "# plt.xlabel('Epochs')\n",
        "# plt.ylabel('Accuracy')\n",
        "# plt.legend(['Train', 'Test'])\n",
        "# plt.show()"
      ],
      "execution_count": null,
      "outputs": []
    },
    {
      "cell_type": "code",
      "metadata": {
        "id": "nl-uEdbprerX",
        "colab_type": "code",
        "colab": {
          "base_uri": "https://localhost:8080/",
          "height": 295
        },
        "outputId": "be4e5707-92ba-4ecd-fd43-65ba79f430b2"
      },
      "source": [
        "# Visualisation\n",
        "import matplotlib as mpl\n",
        "import matplotlib.pyplot as plt\n",
        "import matplotlib.pylab as pylab\n",
        "import seaborn as sns\n",
        "import missingno as msno\n",
        "\n",
        "plt.plot(history1.history['loss'])\n",
        "plt.plot(history1.history['val_loss'])\n",
        "plt.title(\"Model Loss\")\n",
        "plt.xlabel('Epochs')\n",
        "plt.ylabel('Loss')\n",
        "plt.legend(['Train', 'Test'])\n",
        "plt.show()"
      ],
      "execution_count": null,
      "outputs": [
        {
          "output_type": "display_data",
          "data": {
            "image/png": "[encoded data removed]",
            "text/plain": [
              "<Figure size 432x288 with 1 Axes>"
            ]
          },
          "metadata": {
            "tags": [],
            "needs_background": "light"
          }
        }
      ]
    },
    {
      "cell_type": "code",
      "metadata": {
        "id": "iaH94LPvre86",
        "colab_type": "code",
        "colab": {}
      },
      "source": [
        ""
      ],
      "execution_count": null,
      "outputs": []
    },
    {
      "cell_type": "code",
      "metadata": {
        "colab_type": "code",
        "id": "lIF8cjT5su3C",
        "colab": {
          "base_uri": "https://localhost:8080/",
          "height": 295
        },
        "outputId": "7ff1da7e-7a29-47ff-92ed-4be4eda3512d"
      },
      "source": [
        "plt.plot(history1.history['accuracy'])\n",
        "plt.plot(history1.history['val_accuracy'])\n",
        "plt.title(\"Model Accuracy\")\n",
        "plt.xlabel('Epochs')\n",
        "plt.ylabel('Accuracy')\n",
        "plt.legend(['Train', 'Test'])\n",
        "plt.show()"
      ],
      "execution_count": null,
      "outputs": [
        {
          "output_type": "display_data",
          "data": {
            "image/png": "[encoded data removed]",
            "text/plain": [
              "<Figure size 432x288 with 1 Axes>"
            ]
          },
          "metadata": {
            "tags": [],
            "needs_background": "light"
          }
        }
      ]
    }
  ]
}