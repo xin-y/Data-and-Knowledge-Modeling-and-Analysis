{
  "nbformat": 4,
  "nbformat_minor": 0,
  "metadata": {
    "colab": {
      "name": "Resnet18.ipynb",
      "provenance": []
    },
    "kernelspec": {
      "name": "python3",
      "display_name": "Python 3"
    },
    "accelerator": "GPU"
  },
  "cells": [
    {
      "cell_type": "code",
      "metadata": {
        "id": "c2EH7b7gpxif",
        "colab_type": "code",
        "colab": {}
      },
      "source": [
        "import numpy as np # linear algebra\n",
        "import pandas as pd # data processing, CSV file I/O (e.g. pd.read_csv)\n",
        "from keras.utils import to_categorical\n",
        "import numpy as np\n",
        "import pandas as pd\n",
        "from sklearn.model_selection import train_test_split\n",
        "import tensorflow as tf\n",
        "import os\n",
        "import tensorflow_datasets as tfds\n",
        "# Deep Learning Libraries\n",
        "from tensorflow.python import keras\n",
        "from keras.models import Sequential, load_model\n",
        "from keras.layers import Dense, Dropout, Flatten,Activation\n",
        "from keras.layers import Conv2D, MaxPool2D, BatchNormalization,ZeroPadding2D\n",
        "from keras.optimizers import Adam,SGD,Adagrad,Adadelta,RMSprop\n",
        "from keras.preprocessing.image import ImageDataGenerator\n",
        "from keras.callbacks import ReduceLROnPlateau, LearningRateScheduler\n",
        "from keras.utils import to_categorical\n",
        "from keras.utils import plot_model\n",
        "from IPython.display import SVG"
      ],
      "execution_count": null,
      "outputs": []
    },
    {
      "cell_type": "code",
      "metadata": {
        "id": "6hs9Gkyop92h",
        "colab_type": "code",
        "colab": {
          "base_uri": "https://localhost:8080/",
          "height": 52
        },
        "outputId": "49e79b4f-48f3-4080-9bc5-addf830c9160"
      },
      "source": [
        "train_df = pd.read_csv('train.csv')\n",
        "test_df = pd.read_csv('testX.csv')\n",
        "#train_df.shape\n",
        "Y = train_df['Label']\n",
        "train_x = train_df.drop('Id',axis=1)\n",
        "X = train_x.drop('Label',axis=1)\n",
        "\n",
        "test_x = test_df.drop('Id',axis=1)\n",
        "print(X.shape)\n",
        "print(test_x.shape)"
      ],
      "execution_count": null,
      "outputs": [
        {
          "output_type": "stream",
          "text": [
            "(60000, 784)\n",
            "(10000, 784)\n"
          ],
          "name": "stdout"
        }
      ]
    },
    {
      "cell_type": "code",
      "metadata": {
        "id": "TF6sumHlpm7t",
        "colab_type": "code",
        "colab": {
          "base_uri": "https://localhost:8080/",
          "height": 52
        },
        "outputId": "4cd4e71d-27a9-4b48-9b9c-89f0836c22b2"
      },
      "source": [
        "# Splitting Data into Train and Validation Set\n",
        "seed = 42\n",
        "np.random.seed(seed)\n",
        "x_train, x_val, y_train, y_val = train_test_split(X, Y, test_size=0.1, random_state=seed)\n",
        "print(x_train.shape)\n",
        "print(x_val.shape)"
      ],
      "execution_count": null,
      "outputs": [
        {
          "output_type": "stream",
          "text": [
            "(54000, 784)\n",
            "(6000, 784)\n"
          ],
          "name": "stdout"
        }
      ]
    },
    {
      "cell_type": "code",
      "metadata": {
        "id": "MU49eN4frQ7I",
        "colab_type": "code",
        "colab": {}
      },
      "source": [
        "x_train = x_train.values.reshape((-1, 28, 28, 1))\n",
        "x_val = x_val.values.reshape((-1, 28, 28, 1))\n",
        "test_x = test_x.values.reshape((-1, 28, 28, 1))\n",
        "\n",
        "x_train = x_train.astype(\"float32\")/255\n",
        "x_val = x_val.astype(\"float32\")/255\n",
        "test_x = test_x.astype(\"float32\")/255\n"
      ],
      "execution_count": null,
      "outputs": []
    },
    {
      "cell_type": "code",
      "metadata": {
        "id": "wOFQOK7wyp6c",
        "colab_type": "code",
        "colab": {
          "base_uri": "https://localhost:8080/",
          "height": 70
        },
        "outputId": "54d17f5f-3cf8-4999-e9c0-4e0f2b26c6c5"
      },
      "source": [
        "print(\"Fashion MNIST train -  rows:\",x_train.shape[0],\" columns:\", x_train.shape[1:4])\n",
        "print(\"Fashion MNIST valid -  rows:\",x_val.shape[0],\" columns:\", x_val.shape[1:4])\n",
        "print(\"Fashion MNIST test -  rows:\",test_x.shape[0],\" columns:\", test_x.shape[1:4])"
      ],
      "execution_count": null,
      "outputs": [
        {
          "output_type": "stream",
          "text": [
            "Fashion MNIST train -  rows: 54000  columns: (28, 28, 1)\n",
            "Fashion MNIST valid -  rows: 6000  columns: (28, 28, 1)\n",
            "Fashion MNIST test -  rows: 10000  columns: (28, 28, 1)\n"
          ],
          "name": "stdout"
        }
      ]
    },
    {
      "cell_type": "code",
      "metadata": {
        "id": "LdgA7onw4lxP",
        "colab_type": "code",
        "colab": {
          "base_uri": "https://localhost:8080/",
          "height": 52
        },
        "outputId": "218e66f2-39ff-48e7-ce94-e4eafca96d53"
      },
      "source": [
        "y_train = to_categorical(y_train, num_classes=5)\n",
        "y_val = to_categorical(y_val, num_classes=5)\n",
        "print(y_train.shape)\n",
        "print(y_val.shape)"
      ],
      "execution_count": null,
      "outputs": [
        {
          "output_type": "stream",
          "text": [
            "(54000, 5)\n",
            "(6000, 5)\n"
          ],
          "name": "stdout"
        }
      ]
    },
    {
      "cell_type": "code",
      "metadata": {
        "id": "GZmn9hy7xr_T",
        "colab_type": "code",
        "colab": {
          "base_uri": "https://localhost:8080/",
          "height": 479
        },
        "outputId": "449d1639-caf7-4b4b-d676-b880c50cff7a"
      },
      "source": [
        "import tensorflow as tf\n",
        "\n",
        "\n",
        "\n",
        "class BasicBlock(tf.keras.layers.Layer):\n",
        "\n",
        "    def __init__(self, filter_num, stride=1):\n",
        "        super(BasicBlock, self).__init__()\n",
        "        self.conv1 = tf.keras.layers.Conv2D(filters=filter_num,\n",
        "                                            kernel_size=(3, 3),\n",
        "                                            strides=stride,\n",
        "                                            padding=\"same\")\n",
        "        self.bn1 = tf.keras.layers.BatchNormalization()\n",
        "        self.conv2 = tf.keras.layers.Conv2D(filters=filter_num,\n",
        "                                            kernel_size=(3, 3),\n",
        "                                            strides=1,\n",
        "                                            padding=\"same\")\n",
        "        self.bn2 = tf.keras.layers.BatchNormalization()\n",
        "        if stride != 1:\n",
        "            self.downsample = tf.keras.Sequential()\n",
        "            self.downsample.add(tf.keras.layers.Conv2D(filters=filter_num,\n",
        "                                                       kernel_size=(1, 1),\n",
        "                                                       strides=stride))\n",
        "            self.downsample.add(tf.keras.layers.BatchNormalization())\n",
        "        else:\n",
        "            self.downsample = lambda x: x\n",
        "\n",
        "    def call(self, inputs, training=None, **kwargs):\n",
        "        residual = self.downsample(inputs)\n",
        "\n",
        "        x = self.conv1(inputs)\n",
        "        x = self.bn1(x, training=training)\n",
        "        x = tf.nn.relu(x)\n",
        "        x = self.conv2(x)\n",
        "        x = self.bn2(x, training=training)\n",
        "\n",
        "        output = tf.nn.relu(tf.keras.layers.add([residual, x]))\n",
        "\n",
        "        return output\n",
        "\n",
        "\n",
        "class BottleNeck(tf.keras.layers.Layer):\n",
        "    def __init__(self, filter_num, stride=1):\n",
        "        super(BottleNeck, self).__init__()\n",
        "        self.conv1 = tf.keras.layers.Conv2D(filters=filter_num,\n",
        "                                            kernel_size=(1, 1),\n",
        "                                            strides=1,\n",
        "                                            padding='same')\n",
        "        self.bn1 = tf.keras.layers.BatchNormalization()\n",
        "        self.conv2 = tf.keras.layers.Conv2D(filters=filter_num,\n",
        "                                            kernel_size=(3, 3),\n",
        "                                            strides=stride,\n",
        "                                            padding='same')\n",
        "        self.bn2 = tf.keras.layers.BatchNormalization()\n",
        "        self.conv3 = tf.keras.layers.Conv2D(filters=filter_num * 4,\n",
        "                                            kernel_size=(1, 1),\n",
        "                                            strides=1,\n",
        "                                            padding='same')\n",
        "        self.bn3 = tf.keras.layers.BatchNormalization()\n",
        "\n",
        "        self.downsample = tf.keras.Sequential()\n",
        "        self.downsample.add(tf.keras.layers.Conv2D(filters=filter_num * 4,\n",
        "                                                   kernel_size=(1, 1),\n",
        "                                                   strides=stride))\n",
        "        self.downsample.add(tf.keras.layers.BatchNormalization())\n",
        "\n",
        "    def call(self, inputs, training=None, **kwargs):\n",
        "        residual = self.downsample(inputs)\n",
        "\n",
        "        x = self.conv1(inputs)\n",
        "        x = self.bn1(x, training=training)\n",
        "        x = tf.nn.relu(x)\n",
        "        x = self.conv2(x)\n",
        "        x = self.bn2(x, training=training)\n",
        "        x = tf.nn.relu(x)\n",
        "        x = self.conv3(x)\n",
        "        x = self.bn3(x, training=training)\n",
        "\n",
        "        output = tf.nn.relu(tf.keras.layers.add([residual, x]))\n",
        "\n",
        "        return output\n",
        "\n",
        "\n",
        "def make_basic_block_layer(filter_num, blocks, stride=1):\n",
        "    res_block = tf.keras.Sequential()\n",
        "    res_block.add(BasicBlock(filter_num, stride=stride))\n",
        "\n",
        "    for _ in range(1, blocks):\n",
        "        res_block.add(BasicBlock(filter_num, stride=1))\n",
        "\n",
        "    return res_block\n",
        "\n",
        "\n",
        "def make_bottleneck_layer(filter_num, blocks, stride=1):\n",
        "    res_block = tf.keras.Sequential()\n",
        "    res_block.add(BottleNeck(filter_num, stride=stride))\n",
        "\n",
        "    for _ in range(1, blocks):\n",
        "        res_block.add(BottleNeck(filter_num, stride=1))\n",
        "\n",
        "    return res_block\n",
        "\n",
        "\n",
        "\n",
        "class ResNetTypeI(tf.keras.Model):\n",
        "    def __init__(self, layer_params):\n",
        "        super(ResNetTypeI, self).__init__()\n",
        "\n",
        "        self.conv1 = tf.keras.layers.Conv2D(filters=64,\n",
        "                                            kernel_size=(7, 7),\n",
        "                                            strides=2,\n",
        "                                            padding=\"same\")\n",
        "        self.bn1 = tf.keras.layers.BatchNormalization()\n",
        "        self.pool1 = tf.keras.layers.MaxPool2D(pool_size=(3, 3),\n",
        "                                               strides=2,\n",
        "                                               padding=\"same\")\n",
        "\n",
        "        self.layer1 = make_basic_block_layer(filter_num=64,\n",
        "                                             blocks=layer_params[0])\n",
        "        self.layer2 = make_basic_block_layer(filter_num=128,\n",
        "                                             blocks=layer_params[1],\n",
        "                                             stride=2)\n",
        "        self.layer3 = make_basic_block_layer(filter_num=256,\n",
        "                                             blocks=layer_params[2],\n",
        "                                             stride=2)\n",
        "        self.layer4 = make_basic_block_layer(filter_num=512,\n",
        "                                             blocks=layer_params[3],\n",
        "                                             stride=2)\n",
        "\n",
        "        self.avgpool = tf.keras.layers.GlobalAveragePooling2D()\n",
        "        self.fc = tf.keras.layers.Dense(units=5, activation=tf.keras.activations.softmax)\n",
        "\n",
        "    def call(self, inputs, training=None, mask=None):\n",
        "        x = self.conv1(inputs)\n",
        "        x = self.bn1(x, training=training)\n",
        "        x = tf.nn.relu(x)\n",
        "        x = self.pool1(x)\n",
        "        x = self.layer1(x, training=training)\n",
        "        x = self.layer2(x, training=training)\n",
        "        x = self.layer3(x, training=training)\n",
        "        x = self.layer4(x, training=training)\n",
        "        x = self.avgpool(x)\n",
        "        output = self.fc(x)\n",
        "\n",
        "        return output\n",
        "\n",
        "\n",
        "class ResNetTypeII(tf.keras.Model):\n",
        "    def __init__(self, layer_params):\n",
        "        super(ResNetTypeII, self).__init__()\n",
        "        self.conv1 = tf.keras.layers.Conv2D(filters=64,\n",
        "                                            kernel_size=(7, 7),\n",
        "                                            strides=2,\n",
        "                                            padding=\"same\")\n",
        "        self.bn1 = tf.keras.layers.BatchNormalization()\n",
        "        self.pool1 = tf.keras.layers.MaxPool2D(pool_size=(3, 3),\n",
        "                                               strides=2,\n",
        "                                               padding=\"same\")\n",
        "\n",
        "        self.layer1 = make_bottleneck_layer(filter_num=64,\n",
        "                                            blocks=layer_params[0])\n",
        "        self.layer2 = make_bottleneck_layer(filter_num=128,\n",
        "                                            blocks=layer_params[1],\n",
        "                                            stride=2)\n",
        "        self.layer3 = make_bottleneck_layer(filter_num=256,\n",
        "                                            blocks=layer_params[2],\n",
        "                                            stride=2)\n",
        "        self.layer4 = make_bottleneck_layer(filter_num=512,\n",
        "                                            blocks=layer_params[3],\n",
        "                                            stride=2)\n",
        "\n",
        "        self.avgpool = tf.keras.layers.GlobalAveragePooling2D()\n",
        "        self.fc = tf.keras.layers.Dense(units=5, activation=tf.keras.activations.softmax)\n",
        "\n",
        "    def call(self, inputs, training=None, mask=None):\n",
        "        x = self.conv1(inputs)\n",
        "        x = self.bn1(x, training=training)\n",
        "        x = tf.nn.relu(x)\n",
        "        x = self.pool1(x)\n",
        "        x = self.layer1(x, training=training)\n",
        "        x = self.layer2(x, training=training)\n",
        "        x = self.layer3(x, training=training)\n",
        "        x = self.layer4(x, training=training)\n",
        "        x = self.avgpool(x)\n",
        "        output = self.fc(x)\n",
        "\n",
        "        return output\n",
        "\n",
        "\n",
        "def resnet_18():\n",
        "    return ResNetTypeI(layer_params=[2, 2, 2, 2])\n",
        "\n",
        "\n",
        "def resnet_34():\n",
        "    return ResNetTypeI(layer_params=[3, 4, 6, 3])\n",
        "\n",
        "\n",
        "def resnet_50():\n",
        "    return ResNetTypeII(layer_params=[3, 4, 6, 3])\n",
        "model = resnet_18()\n",
        "model.build(input_shape = (None, 28, 28, 1))\n",
        "model.summary()"
      ],
      "execution_count": null,
      "outputs": [
        {
          "output_type": "stream",
          "text": [
            "Model: \"res_net_type_i_1\"\n",
            "_________________________________________________________________\n",
            "Layer (type)                 Output Shape              Param #   \n",
            "=================================================================\n",
            "conv2d_601 (Conv2D)          multiple                  3200      \n",
            "_________________________________________________________________\n",
            "batch_normalization_564 (Bat multiple                  256       \n",
            "_________________________________________________________________\n",
            "max_pooling2d_14 (MaxPooling multiple                  0         \n",
            "_________________________________________________________________\n",
            "sequential_79 (Sequential)   multiple                  148736    \n",
            "_________________________________________________________________\n",
            "sequential_80 (Sequential)   multiple                  527488    \n",
            "_________________________________________________________________\n",
            "sequential_82 (Sequential)   multiple                  2103552   \n",
            "_________________________________________________________________\n",
            "sequential_84 (Sequential)   multiple                  8401408   \n",
            "_________________________________________________________________\n",
            "global_average_pooling2d_14  multiple                  0         \n",
            "_________________________________________________________________\n",
            "dense_20 (Dense)             multiple                  2565      \n",
            "=================================================================\n",
            "Total params: 11,187,205\n",
            "Trainable params: 11,177,605\n",
            "Non-trainable params: 9,600\n",
            "_________________________________________________________________\n"
          ],
          "name": "stdout"
        }
      ]
    },
    {
      "cell_type": "code",
      "metadata": {
        "id": "R01PvALmJy4G",
        "colab_type": "code",
        "colab": {}
      },
      "source": [
        ""
      ],
      "execution_count": null,
      "outputs": []
    },
    {
      "cell_type": "code",
      "metadata": {
        "colab_type": "code",
        "id": "lXq_zihZJzUa",
        "colab": {
          "base_uri": "https://localhost:8080/",
          "height": 77
        },
        "outputId": "97b2fba9-0687-4e6f-849b-d3624b2e9168"
      },
      "source": [
        "from tensorflow.keras.utils import plot_model\n",
        "plot_model(model, to_file='model.png')\n",
        "# SVG(model_to_dot(model).create(prog='dot', format='svg'))\n"
      ],
      "execution_count": null,
      "outputs": [
        {
          "output_type": "execute_result",
          "data": {
            "image/png": "[encoded data removed]",
            "text/plain": [
              "<IPython.core.display.Image object>"
            ]
          },
          "metadata": {
            "tags": []
          },
          "execution_count": 151
        }
      ]
    },
    {
      "cell_type": "code",
      "metadata": {
        "id": "oelx2oRwGbGX",
        "colab_type": "code",
        "colab": {}
      },
      "source": [
        "optimizer = tf.keras.optimizers.Adam()"
      ],
      "execution_count": null,
      "outputs": []
    },
    {
      "cell_type": "code",
      "metadata": {
        "id": "TJDG2cL2c3f2",
        "colab_type": "code",
        "colab": {}
      },
      "source": [
        "model.compile(optimizer = optimizer, loss = \"categorical_crossentropy\", metrics=[\"accuracy\"])"
      ],
      "execution_count": null,
      "outputs": []
    },
    {
      "cell_type": "code",
      "metadata": {
        "id": "12xUdABdy8Ic",
        "colab_type": "code",
        "colab": {}
      },
      "source": [
        "epochs = 50 # for better result increase the epochs\n",
        "batch_size = 128"
      ],
      "execution_count": null,
      "outputs": []
    },
    {
      "cell_type": "code",
      "metadata": {
        "id": "yTwCHcFCKjHo",
        "colab_type": "code",
        "colab": {}
      },
      "source": [
        "# Data Augmentation\n",
        "datagen = ImageDataGenerator(rotation_range = 10, horizontal_flip = True, zoom_range = 0.1)\n",
        "\n",
        "datagen.fit(x_train)"
      ],
      "execution_count": null,
      "outputs": []
    },
    {
      "cell_type": "code",
      "metadata": {
        "colab_type": "code",
        "id": "abidP9wIKeQQ",
        "colab": {
          "base_uri": "https://localhost:8080/",
          "height": 1000
        },
        "outputId": "e283ea68-6f70-4d70-9c09-05d72d44728a"
      },
      "source": [
        "from tensorflow.keras.callbacks import ReduceLROnPlateau\n",
        "\n",
        "lr_reducer = ReduceLROnPlateau(factor=np.sqrt(0.1),\n",
        "                               cooldown=0,\n",
        "                               patience=5,\n",
        "                               min_lr=0.5e-6)\n",
        "callbacks = [ lr_reducer]\n",
        "history1=model.fit(x_train, y_train,\n",
        "     batch_size=batch_size,\n",
        "     epochs=epochs,\n",
        "     validation_data=(x_val, y_val),\n",
        "     shuffle=True,\n",
        "     callbacks=callbacks)"
      ],
      "execution_count": null,
      "outputs": [
        {
          "output_type": "stream",
          "text": [
            "Epoch 1/50\n",
            "422/422 [==============================] - 18s 43ms/step - loss: 0.5181 - accuracy: 0.8027 - val_loss: 0.6779 - val_accuracy: 0.7127 - lr: 0.0010\n",
            "Epoch 2/50\n",
            "422/422 [==============================] - 18s 42ms/step - loss: 0.3846 - accuracy: 0.8451 - val_loss: 1.2003 - val_accuracy: 0.7090 - lr: 0.0010\n",
            "Epoch 3/50\n",
            "422/422 [==============================] - 18s 42ms/step - loss: 0.3493 - accuracy: 0.8579 - val_loss: 0.3976 - val_accuracy: 0.8345 - lr: 0.0010\n",
            "Epoch 4/50\n",
            "422/422 [==============================] - 18s 42ms/step - loss: 0.3224 - accuracy: 0.8679 - val_loss: 0.3805 - val_accuracy: 0.8488 - lr: 0.0010\n",
            "Epoch 5/50\n",
            "422/422 [==============================] - 18s 42ms/step - loss: 0.3025 - accuracy: 0.8764 - val_loss: 1.7083 - val_accuracy: 0.6383 - lr: 0.0010\n",
            "Epoch 6/50\n",
            "422/422 [==============================] - 18s 43ms/step - loss: 0.2904 - accuracy: 0.8821 - val_loss: 0.3504 - val_accuracy: 0.8587 - lr: 0.0010\n",
            "Epoch 7/50\n",
            "422/422 [==============================] - 18s 42ms/step - loss: 0.2816 - accuracy: 0.8849 - val_loss: 0.3228 - val_accuracy: 0.8652 - lr: 0.0010\n",
            "Epoch 8/50\n",
            "422/422 [==============================] - 18s 42ms/step - loss: 0.2604 - accuracy: 0.8936 - val_loss: 0.4438 - val_accuracy: 0.8228 - lr: 0.0010\n",
            "Epoch 9/50\n",
            "422/422 [==============================] - 18s 42ms/step - loss: 0.2529 - accuracy: 0.8965 - val_loss: 0.2788 - val_accuracy: 0.8885 - lr: 0.0010\n",
            "Epoch 10/50\n",
            "422/422 [==============================] - 18s 42ms/step - loss: 0.2386 - accuracy: 0.9007 - val_loss: 0.6033 - val_accuracy: 0.7922 - lr: 0.0010\n",
            "Epoch 11/50\n",
            "422/422 [==============================] - 18s 42ms/step - loss: 0.2328 - accuracy: 0.9051 - val_loss: 0.3547 - val_accuracy: 0.8628 - lr: 0.0010\n",
            "Epoch 12/50\n",
            "422/422 [==============================] - 18s 42ms/step - loss: 0.2222 - accuracy: 0.9082 - val_loss: 0.2977 - val_accuracy: 0.8858 - lr: 0.0010\n",
            "Epoch 13/50\n",
            "422/422 [==============================] - 18s 42ms/step - loss: 0.2065 - accuracy: 0.9159 - val_loss: 0.4364 - val_accuracy: 0.8380 - lr: 0.0010\n",
            "Epoch 14/50\n",
            "422/422 [==============================] - 18s 42ms/step - loss: 0.1998 - accuracy: 0.9191 - val_loss: 0.3752 - val_accuracy: 0.8595 - lr: 0.0010\n",
            "Epoch 15/50\n",
            "422/422 [==============================] - 18s 42ms/step - loss: 0.1325 - accuracy: 0.9464 - val_loss: 0.3762 - val_accuracy: 0.8652 - lr: 3.1623e-04\n",
            "Epoch 16/50\n",
            "422/422 [==============================] - 18s 42ms/step - loss: 0.1159 - accuracy: 0.9539 - val_loss: 0.3534 - val_accuracy: 0.8790 - lr: 3.1623e-04\n",
            "Epoch 17/50\n",
            "422/422 [==============================] - 18s 42ms/step - loss: 0.1054 - accuracy: 0.9585 - val_loss: 0.3210 - val_accuracy: 0.8962 - lr: 3.1623e-04\n",
            "Epoch 18/50\n",
            "422/422 [==============================] - 18s 42ms/step - loss: 0.0960 - accuracy: 0.9617 - val_loss: 0.3324 - val_accuracy: 0.8947 - lr: 3.1623e-04\n",
            "Epoch 19/50\n",
            "422/422 [==============================] - 18s 42ms/step - loss: 0.0870 - accuracy: 0.9656 - val_loss: 0.3644 - val_accuracy: 0.8930 - lr: 3.1623e-04\n",
            "Epoch 20/50\n",
            "422/422 [==============================] - 18s 42ms/step - loss: 0.0590 - accuracy: 0.9774 - val_loss: 0.3673 - val_accuracy: 0.8988 - lr: 1.0000e-04\n",
            "Epoch 21/50\n",
            "422/422 [==============================] - 18s 42ms/step - loss: 0.0498 - accuracy: 0.9807 - val_loss: 0.3826 - val_accuracy: 0.8973 - lr: 1.0000e-04\n",
            "Epoch 22/50\n",
            "422/422 [==============================] - 18s 42ms/step - loss: 0.0457 - accuracy: 0.9823 - val_loss: 0.4218 - val_accuracy: 0.8950 - lr: 1.0000e-04\n",
            "Epoch 23/50\n",
            "422/422 [==============================] - 18s 42ms/step - loss: 0.0368 - accuracy: 0.9859 - val_loss: 0.4507 - val_accuracy: 0.8948 - lr: 1.0000e-04\n",
            "Epoch 24/50\n",
            "422/422 [==============================] - 18s 43ms/step - loss: 0.0340 - accuracy: 0.9867 - val_loss: 0.4767 - val_accuracy: 0.8947 - lr: 1.0000e-04\n",
            "Epoch 25/50\n",
            "422/422 [==============================] - 18s 43ms/step - loss: 0.0253 - accuracy: 0.9909 - val_loss: 0.4797 - val_accuracy: 0.8988 - lr: 3.1623e-05\n",
            "Epoch 26/50\n",
            "422/422 [==============================] - 18s 43ms/step - loss: 0.0227 - accuracy: 0.9916 - val_loss: 0.4914 - val_accuracy: 0.8982 - lr: 3.1623e-05\n",
            "Epoch 27/50\n",
            "422/422 [==============================] - 18s 42ms/step - loss: 0.0198 - accuracy: 0.9930 - val_loss: 0.5099 - val_accuracy: 0.8955 - lr: 3.1623e-05\n",
            "Epoch 28/50\n",
            "422/422 [==============================] - 18s 42ms/step - loss: 0.0203 - accuracy: 0.9925 - val_loss: 0.5209 - val_accuracy: 0.8988 - lr: 3.1623e-05\n",
            "Epoch 29/50\n",
            "422/422 [==============================] - 18s 42ms/step - loss: 0.0170 - accuracy: 0.9939 - val_loss: 0.5425 - val_accuracy: 0.8938 - lr: 3.1623e-05\n",
            "Epoch 30/50\n",
            "422/422 [==============================] - 18s 42ms/step - loss: 0.0159 - accuracy: 0.9944 - val_loss: 0.5466 - val_accuracy: 0.8952 - lr: 1.0000e-05\n",
            "Epoch 31/50\n",
            "422/422 [==============================] - 18s 42ms/step - loss: 0.0162 - accuracy: 0.9944 - val_loss: 0.5578 - val_accuracy: 0.8970 - lr: 1.0000e-05\n",
            "Epoch 32/50\n",
            "422/422 [==============================] - 18s 42ms/step - loss: 0.0149 - accuracy: 0.9949 - val_loss: 0.5613 - val_accuracy: 0.8967 - lr: 1.0000e-05\n",
            "Epoch 33/50\n",
            "422/422 [==============================] - 18s 42ms/step - loss: 0.0123 - accuracy: 0.9961 - val_loss: 0.5707 - val_accuracy: 0.8955 - lr: 1.0000e-05\n",
            "Epoch 34/50\n",
            "422/422 [==============================] - 18s 42ms/step - loss: 0.0130 - accuracy: 0.9956 - val_loss: 0.5815 - val_accuracy: 0.8955 - lr: 1.0000e-05\n",
            "Epoch 35/50\n",
            "422/422 [==============================] - 18s 42ms/step - loss: 0.0114 - accuracy: 0.9965 - val_loss: 0.5822 - val_accuracy: 0.8957 - lr: 3.1623e-06\n",
            "Epoch 36/50\n",
            "422/422 [==============================] - 18s 42ms/step - loss: 0.0115 - accuracy: 0.9960 - val_loss: 0.5879 - val_accuracy: 0.8953 - lr: 3.1623e-06\n",
            "Epoch 37/50\n",
            "422/422 [==============================] - 18s 42ms/step - loss: 0.0120 - accuracy: 0.9959 - val_loss: 0.5884 - val_accuracy: 0.8947 - lr: 3.1623e-06\n",
            "Epoch 38/50\n",
            "422/422 [==============================] - 18s 42ms/step - loss: 0.0113 - accuracy: 0.9963 - val_loss: 0.5908 - val_accuracy: 0.8943 - lr: 3.1623e-06\n",
            "Epoch 39/50\n",
            "422/422 [==============================] - 18s 42ms/step - loss: 0.0125 - accuracy: 0.9956 - val_loss: 0.5936 - val_accuracy: 0.8943 - lr: 3.1623e-06\n",
            "Epoch 40/50\n",
            "422/422 [==============================] - 18s 42ms/step - loss: 0.0118 - accuracy: 0.9959 - val_loss: 0.5935 - val_accuracy: 0.8942 - lr: 1.0000e-06\n",
            "Epoch 41/50\n",
            "422/422 [==============================] - 18s 42ms/step - loss: 0.0122 - accuracy: 0.9956 - val_loss: 0.5938 - val_accuracy: 0.8938 - lr: 1.0000e-06\n",
            "Epoch 42/50\n",
            "422/422 [==============================] - 18s 42ms/step - loss: 0.0113 - accuracy: 0.9964 - val_loss: 0.5949 - val_accuracy: 0.8950 - lr: 1.0000e-06\n",
            "Epoch 43/50\n",
            "422/422 [==============================] - 18s 42ms/step - loss: 0.0119 - accuracy: 0.9954 - val_loss: 0.5947 - val_accuracy: 0.8942 - lr: 1.0000e-06\n",
            "Epoch 44/50\n",
            "422/422 [==============================] - 18s 42ms/step - loss: 0.0113 - accuracy: 0.9960 - val_loss: 0.5958 - val_accuracy: 0.8938 - lr: 1.0000e-06\n",
            "Epoch 45/50\n",
            "422/422 [==============================] - 18s 42ms/step - loss: 0.0113 - accuracy: 0.9962 - val_loss: 0.5959 - val_accuracy: 0.8942 - lr: 5.0000e-07\n",
            "Epoch 46/50\n",
            "422/422 [==============================] - 18s 42ms/step - loss: 0.0120 - accuracy: 0.9959 - val_loss: 0.5951 - val_accuracy: 0.8945 - lr: 5.0000e-07\n",
            "Epoch 47/50\n",
            "422/422 [==============================] - 18s 42ms/step - loss: 0.0110 - accuracy: 0.9964 - val_loss: 0.5971 - val_accuracy: 0.8938 - lr: 5.0000e-07\n",
            "Epoch 48/50\n",
            "422/422 [==============================] - 18s 42ms/step - loss: 0.0106 - accuracy: 0.9964 - val_loss: 0.5979 - val_accuracy: 0.8937 - lr: 5.0000e-07\n",
            "Epoch 49/50\n",
            "422/422 [==============================] - 18s 43ms/step - loss: 0.0113 - accuracy: 0.9961 - val_loss: 0.5983 - val_accuracy: 0.8937 - lr: 5.0000e-07\n",
            "Epoch 50/50\n",
            "422/422 [==============================] - 18s 42ms/step - loss: 0.0109 - accuracy: 0.9964 - val_loss: 0.5994 - val_accuracy: 0.8942 - lr: 5.0000e-07\n"
          ],
          "name": "stdout"
        }
      ]
    },
    {
      "cell_type": "code",
      "metadata": {
        "id": "Wrwh3qQPdmtm",
        "colab_type": "code",
        "colab": {
          "base_uri": "https://localhost:8080/",
          "height": 295
        },
        "outputId": "d1fdd2dc-f852-4109-a301-34ed71c919da"
      },
      "source": [
        "# Visualisation\n",
        "import matplotlib as mpl\n",
        "import matplotlib.pyplot as plt\n",
        "import matplotlib.pylab as pylab\n",
        "import seaborn as sns\n",
        "import missingno as msno\n",
        "\n",
        "plt.plot(history1.history['loss'])\n",
        "plt.plot(history1.history['val_loss'])\n",
        "plt.title(\"Model Loss\")\n",
        "plt.xlabel('Epochs')\n",
        "plt.ylabel('Loss')\n",
        "plt.legend(['Train', 'Test'])\n",
        "plt.show()"
      ],
      "execution_count": null,
      "outputs": [
        {
          "output_type": "display_data",
          "data": {
            "image/png": "[encoded data removed]",
            "text/plain": [
              "<Figure size 432x288 with 1 Axes>"
            ]
          },
          "metadata": {
            "tags": [],
            "needs_background": "light"
          }
        }
      ]
    },
    {
      "cell_type": "code",
      "metadata": {
        "id": "xkHN7Dfei070",
        "colab_type": "code",
        "colab": {
          "base_uri": "https://localhost:8080/",
          "height": 295
        },
        "outputId": "36dfa866-835b-4402-b9bc-16deef930c7a"
      },
      "source": [
        "plt.plot(history1.history['accuracy'])\n",
        "plt.plot(history1.history['val_accuracy'])\n",
        "plt.title(\"Model Accuracy\")\n",
        "plt.xlabel('Epochs')\n",
        "plt.ylabel('Accuracy')\n",
        "plt.legend(['Train', 'Test'])\n",
        "plt.show()"
      ],
      "execution_count": null,
      "outputs": [
        {
          "output_type": "display_data",
          "data": {
            "image/png": "[encoded data removed]",
            "text/plain": [
              "<Figure size 432x288 with 1 Axes>"
            ]
          },
          "metadata": {
            "tags": [],
            "needs_background": "light"
          }
        }
      ]
    },
    {
      "cell_type": "code",
      "metadata": {
        "id": "TuzKFFcbbh22",
        "colab_type": "code",
        "colab": {}
      },
      "source": [
        "preds = model.predict_classes(test_x)\n",
        "print(preds)\n",
        "output=pd.DataFrame({'Id':test_df['Id'],'Label':preds})\n",
        "print(test_df['Id'])\n",
        "output.to_csv('outputnoaug.csv',index=False)"
      ],
      "execution_count": null,
      "outputs": []
    },
    {
      "cell_type": "code",
      "metadata": {
        "id": "lc2k-kwpbv9j",
        "colab_type": "code",
        "colab": {}
      },
      "source": [
        ""
      ],
      "execution_count": null,
      "outputs": []
    },
    {
      "cell_type": "code",
      "metadata": {
        "id": "DvuBIIlCbwV7",
        "colab_type": "code",
        "colab": {}
      },
      "source": [
        ""
      ],
      "execution_count": null,
      "outputs": []
    },
    {
      "cell_type": "code",
      "metadata": {
        "id": "t8CEyhCNY77T",
        "colab_type": "code",
        "colab": {}
      },
      "source": [
        "from tensorflow.keras.callbacks import ReduceLROnPlateau\n",
        "\n",
        "lr_reducer = ReduceLROnPlateau(factor=np.sqrt(0.1),\n",
        "                               cooldown=0,\n",
        "                               patience=5,\n",
        "                               min_lr=0.5e-6)\n",
        "callbacks = [ lr_reducer]\n",
        "history2=model.fit(datagen.flow(x_train, y_train,\n",
        "     batch_size=batch_size),\n",
        "     epochs=epochs,\n",
        "     validation_data=(x_val, y_val),\n",
        "     shuffle=True,\n",
        "     callbacks=callbacks)"
      ],
      "execution_count": null,
      "outputs": []
    },
    {
      "cell_type": "code",
      "metadata": {
        "id": "WKd59TU0c52S",
        "colab_type": "code",
        "colab": {}
      },
      "source": [
        "score = model.evaluate(x_val, y_val)\n",
        "\n",
        "print('Loss: {:.4f}'.format(score[0]))\n",
        "print('Accuracy: {:.4f}'.format(score[1]))"
      ],
      "execution_count": null,
      "outputs": []
    },
    {
      "cell_type": "code",
      "metadata": {
        "id": "fRaZdXgdohp5",
        "colab_type": "code",
        "colab": {}
      },
      "source": [
        "preds = model.predict_classes(test_x)\n",
        "print(preds)\n",
        "output=pd.DataFrame({'Id':test_df['Id'],'Label':preds})\n",
        "print(test_df['Id'])\n",
        "output.to_csv('output.csv',index=False)"
      ],
      "execution_count": null,
      "outputs": []
    }
  ]
}