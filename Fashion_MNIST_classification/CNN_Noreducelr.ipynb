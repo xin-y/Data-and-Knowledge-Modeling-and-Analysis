{
  "nbformat": 4,
  "nbformat_minor": 0,
  "metadata": {
    "colab": {
      "name": "CNN_Noreducelr.ipynb",
      "provenance": [],
      "collapsed_sections": []
    },
    "kernelspec": {
      "name": "python3",
      "display_name": "Python 3"
    },
    "accelerator": "GPU"
  },
  "cells": [
    {
      "cell_type": "code",
      "metadata": {
        "id": "c2EH7b7gpxif",
        "colab_type": "code",
        "colab": {
          "base_uri": "https://localhost:8080/",
          "height": 35
        },
        "outputId": "2d79cc25-06e9-4000-b50c-10d122469477"
      },
      "source": [
        "import numpy as np # linear algebra\n",
        "import pandas as pd # data processing, CSV file I/O (e.g. pd.read_csv)\n",
        "from keras.utils import to_categorical\n",
        "import numpy as np\n",
        "import pandas as pd\n",
        "from sklearn.model_selection import train_test_split\n",
        "import tensorflow as tf\n",
        "import os\n",
        "import tensorflow_datasets as tfds\n",
        "# Deep Learning Libraries\n",
        "from tensorflow.python import keras\n",
        "from keras.models import Sequential, load_model\n",
        "from keras.layers import Dense, Dropout, Flatten,Activation\n",
        "from keras.layers import Conv2D, MaxPooling2D, BatchNormalization,ZeroPadding2D\n",
        "from keras.optimizers import Adam,SGD,Adagrad,Adadelta,RMSprop\n",
        "from keras.preprocessing.image import ImageDataGenerator\n",
        "from keras.callbacks import ReduceLROnPlateau, LearningRateScheduler\n",
        "from keras.utils import to_categorical\n",
        "from keras.utils import plot_model\n",
        "from IPython.display import SVG"
      ],
      "execution_count": null,
      "outputs": [
        {
          "output_type": "stream",
          "text": [
            "Using TensorFlow backend.\n"
          ],
          "name": "stderr"
        }
      ]
    },
    {
      "cell_type": "code",
      "metadata": {
        "id": "6hs9Gkyop92h",
        "colab_type": "code",
        "colab": {
          "base_uri": "https://localhost:8080/",
          "height": 52
        },
        "outputId": "e29a96a9-95f9-410e-9d5e-bcd165e0fd58"
      },
      "source": [
        "train_df = pd.read_csv('train.csv')\n",
        "test_df = pd.read_csv('testX.csv')\n",
        "#train_df.shape\n",
        "Y = train_df['Label']\n",
        "train_x = train_df.drop('Id',axis=1)\n",
        "X = train_x.drop('Label',axis=1)\n",
        "\n",
        "test_x = test_df.drop('Id',axis=1)\n",
        "print(X.shape)\n",
        "print(test_x.shape)"
      ],
      "execution_count": null,
      "outputs": [
        {
          "output_type": "stream",
          "text": [
            "(60000, 784)\n",
            "(10000, 784)\n"
          ],
          "name": "stdout"
        }
      ]
    },
    {
      "cell_type": "code",
      "metadata": {
        "id": "TF6sumHlpm7t",
        "colab_type": "code",
        "colab": {
          "base_uri": "https://localhost:8080/",
          "height": 52
        },
        "outputId": "f46028ba-d8bb-4814-e008-99c11ea86e3d"
      },
      "source": [
        "# Splitting Data into Train and Validation Set\n",
        "seed = 42\n",
        "np.random.seed(seed)\n",
        "x_train, x_val, y_train, y_val = train_test_split(X, Y, test_size=0.1, random_state=seed)\n",
        "print(x_train.shape)\n",
        "print(x_val.shape)"
      ],
      "execution_count": null,
      "outputs": [
        {
          "output_type": "stream",
          "text": [
            "(54000, 784)\n",
            "(6000, 784)\n"
          ],
          "name": "stdout"
        }
      ]
    },
    {
      "cell_type": "code",
      "metadata": {
        "id": "MU49eN4frQ7I",
        "colab_type": "code",
        "colab": {}
      },
      "source": [
        "x_train = x_train.values.reshape((-1, 28, 28, 1))\n",
        "x_val = x_val.values.reshape((-1, 28, 28, 1))\n",
        "test_x = test_x.values.reshape((-1, 28, 28, 1))\n",
        "\n",
        "x_train = x_train.astype(\"float32\")/255\n",
        "x_val = x_val.astype(\"float32\")/255\n",
        "test_x = test_x.astype(\"float32\")/255\n"
      ],
      "execution_count": null,
      "outputs": []
    },
    {
      "cell_type": "code",
      "metadata": {
        "id": "wOFQOK7wyp6c",
        "colab_type": "code",
        "colab": {
          "base_uri": "https://localhost:8080/",
          "height": 70
        },
        "outputId": "00958d38-4e9b-46bc-8c6c-a8ec102c53ab"
      },
      "source": [
        "print(\"Fashion MNIST train -  rows:\",x_train.shape[0],\" columns:\", x_train.shape[1:4])\n",
        "print(\"Fashion MNIST valid -  rows:\",x_val.shape[0],\" columns:\", x_val.shape[1:4])\n",
        "print(\"Fashion MNIST test -  rows:\",test_x.shape[0],\" columns:\", test_x.shape[1:4])"
      ],
      "execution_count": null,
      "outputs": [
        {
          "output_type": "stream",
          "text": [
            "Fashion MNIST train -  rows: 54000  columns: (28, 28, 1)\n",
            "Fashion MNIST valid -  rows: 6000  columns: (28, 28, 1)\n",
            "Fashion MNIST test -  rows: 10000  columns: (28, 28, 1)\n"
          ],
          "name": "stdout"
        }
      ]
    },
    {
      "cell_type": "code",
      "metadata": {
        "id": "LdgA7onw4lxP",
        "colab_type": "code",
        "colab": {
          "base_uri": "https://localhost:8080/",
          "height": 52
        },
        "outputId": "a72be8ed-fe9d-42af-ed75-e80ae0c92f96"
      },
      "source": [
        "y_train = to_categorical(y_train, num_classes=5)\n",
        "y_val = to_categorical(y_val, num_classes=5)\n",
        "print(y_train.shape)\n",
        "print(y_val.shape)"
      ],
      "execution_count": null,
      "outputs": [
        {
          "output_type": "stream",
          "text": [
            "(54000, 5)\n",
            "(6000, 5)\n"
          ],
          "name": "stdout"
        }
      ]
    },
    {
      "cell_type": "code",
      "metadata": {
        "id": "GZmn9hy7xr_T",
        "colab_type": "code",
        "colab": {}
      },
      "source": [
        "model = Sequential()\n",
        "\n",
        "dim = 28\n",
        "nclasses = 5\n",
        "\n",
        "model.add(Conv2D(filters=32, kernel_size=(5,5), padding='same', activation='relu', input_shape=(dim,dim,1)))\n",
        "model.add(Conv2D(filters=32, kernel_size=(5,5), padding='same', activation='relu',))\n",
        "model.add(MaxPooling2D(pool_size=(2,2), strides=(2,2)))\n",
        "model.add(Dropout(0.2))\n",
        "\n",
        "model.add(Conv2D(filters=64, kernel_size=(5,5), padding='same', activation='relu'))\n",
        "model.add(Conv2D(filters=64, kernel_size=(5,5), padding='same', activation='relu'))\n",
        "model.add(MaxPooling2D(pool_size=(2,2), strides=(2,2)))\n",
        "model.add(Dropout(0.2))\n",
        "\n",
        "model.add(Flatten())\n",
        "model.add(Dense(120, activation='relu'))\n",
        "model.add(Dense(84, activation='relu'))\n",
        "model.add(Dense(5, activation='softmax'))"
      ],
      "execution_count": null,
      "outputs": []
    },
    {
      "cell_type": "code",
      "metadata": {
        "id": "R01PvALmJy4G",
        "colab_type": "code",
        "colab": {}
      },
      "source": [
        ""
      ],
      "execution_count": null,
      "outputs": []
    },
    {
      "cell_type": "code",
      "metadata": {
        "colab_type": "code",
        "id": "lXq_zihZJzUa",
        "colab": {
          "base_uri": "https://localhost:8080/",
          "height": 1000
        },
        "outputId": "8769b9c2-9776-413a-c130-5d94485aa265"
      },
      "source": [
        "plot_model(model, to_file='model.png')\n"
      ],
      "execution_count": null,
      "outputs": [
        {
          "output_type": "execute_result",
          "data": {
            "image/png": "[encoded data removed]",
            "text/plain": [
              "<IPython.core.display.Image object>"
            ]
          },
          "metadata": {
            "tags": []
          },
          "execution_count": 8
        }
      ]
    },
    {
      "cell_type": "code",
      "metadata": {
        "id": "oelx2oRwGbGX",
        "colab_type": "code",
        "colab": {}
      },
      "source": [
        "optimizer = Adam(lr=0.001)"
      ],
      "execution_count": null,
      "outputs": []
    },
    {
      "cell_type": "code",
      "metadata": {
        "id": "TJDG2cL2c3f2",
        "colab_type": "code",
        "colab": {}
      },
      "source": [
        "model.compile(optimizer = optimizer, loss = \"categorical_crossentropy\", metrics=[\"accuracy\"])"
      ],
      "execution_count": null,
      "outputs": []
    },
    {
      "cell_type": "code",
      "metadata": {
        "id": "12xUdABdy8Ic",
        "colab_type": "code",
        "colab": {}
      },
      "source": [
        "epochs = 50 # for better result increase the epochs\n",
        "batch_size = 128"
      ],
      "execution_count": null,
      "outputs": []
    },
    {
      "cell_type": "code",
      "metadata": {
        "id": "yTwCHcFCKjHo",
        "colab_type": "code",
        "colab": {}
      },
      "source": [
        "# Data Augmentation\n",
        "datagen = ImageDataGenerator(\n",
        "        featurewise_center=False,  # set input mean to 0 over the dataset\n",
        "        samplewise_center=False,  # set each sample mean to 0\n",
        "        featurewise_std_normalization=False,  # divide inputs by std of the dataset\n",
        "        samplewise_std_normalization=False,  # divide each input by its std\n",
        "        zca_whitening=False,  # dimesion reduction\n",
        "        rotation_range=0.1,  # randomly rotate images in the range\n",
        "        zoom_range = 0.1, # Randomly zoom image\n",
        "        width_shift_range=0.1,  # randomly shift images horizontally\n",
        "        height_shift_range=0.1,  # randomly shift images vertically\n",
        "        horizontal_flip=False,  # randomly flip images\n",
        "        vertical_flip=False)  # randomly flip images\n",
        "\n",
        "datagen.fit(x_train)"
      ],
      "execution_count": null,
      "outputs": []
    },
    {
      "cell_type": "code",
      "metadata": {
        "id": "yFaqw-mBxWra",
        "colab_type": "code",
        "colab": {
          "base_uri": "https://localhost:8080/",
          "height": 1000
        },
        "outputId": "296a2f0c-ebb8-4855-84a7-2824cf14a6b4"
      },
      "source": [
        "history1=model.fit(x_train, y_train,\n",
        "     batch_size=batch_size,\n",
        "     epochs=epochs,\n",
        "     validation_data=(x_val, y_val),\n",
        "     shuffle=True\n",
        "     )"
      ],
      "execution_count": null,
      "outputs": [
        {
          "output_type": "stream",
          "text": [
            "Train on 54000 samples, validate on 6000 samples\n",
            "Epoch 1/50\n",
            "54000/54000 [==============================] - 12s 224us/step - loss: 0.6253 - accuracy: 0.7359 - val_loss: 0.3985 - val_accuracy: 0.8368\n",
            "Epoch 2/50\n",
            "54000/54000 [==============================] - 5s 101us/step - loss: 0.4151 - accuracy: 0.8301 - val_loss: 0.3969 - val_accuracy: 0.8300\n",
            "Epoch 3/50\n",
            "54000/54000 [==============================] - 5s 101us/step - loss: 0.3605 - accuracy: 0.8527 - val_loss: 0.3154 - val_accuracy: 0.8748\n",
            "Epoch 4/50\n",
            "54000/54000 [==============================] - 5s 101us/step - loss: 0.3240 - accuracy: 0.8683 - val_loss: 0.3164 - val_accuracy: 0.8685\n",
            "Epoch 5/50\n",
            "54000/54000 [==============================] - 5s 100us/step - loss: 0.3069 - accuracy: 0.8751 - val_loss: 0.3067 - val_accuracy: 0.8743\n",
            "Epoch 6/50\n",
            "54000/54000 [==============================] - 5s 101us/step - loss: 0.2943 - accuracy: 0.8790 - val_loss: 0.2846 - val_accuracy: 0.8795\n",
            "Epoch 7/50\n",
            "54000/54000 [==============================] - 5s 101us/step - loss: 0.2724 - accuracy: 0.8886 - val_loss: 0.2768 - val_accuracy: 0.8842\n",
            "Epoch 8/50\n",
            "54000/54000 [==============================] - 5s 101us/step - loss: 0.2605 - accuracy: 0.8921 - val_loss: 0.3073 - val_accuracy: 0.8740\n",
            "Epoch 9/50\n",
            "54000/54000 [==============================] - 5s 101us/step - loss: 0.2462 - accuracy: 0.8984 - val_loss: 0.2662 - val_accuracy: 0.8898\n",
            "Epoch 10/50\n",
            "54000/54000 [==============================] - 5s 101us/step - loss: 0.2403 - accuracy: 0.9010 - val_loss: 0.2471 - val_accuracy: 0.9008\n",
            "Epoch 11/50\n",
            "54000/54000 [==============================] - 5s 101us/step - loss: 0.2181 - accuracy: 0.9099 - val_loss: 0.2478 - val_accuracy: 0.9003\n",
            "Epoch 12/50\n",
            "54000/54000 [==============================] - 6s 102us/step - loss: 0.2211 - accuracy: 0.9098 - val_loss: 0.2849 - val_accuracy: 0.8875\n",
            "Epoch 13/50\n",
            "54000/54000 [==============================] - 5s 102us/step - loss: 0.2109 - accuracy: 0.9133 - val_loss: 0.2510 - val_accuracy: 0.9050\n",
            "Epoch 14/50\n",
            "54000/54000 [==============================] - 5s 100us/step - loss: 0.2068 - accuracy: 0.9140 - val_loss: 0.2532 - val_accuracy: 0.9005\n",
            "Epoch 15/50\n",
            "54000/54000 [==============================] - 6s 102us/step - loss: 0.1960 - accuracy: 0.9204 - val_loss: 0.2536 - val_accuracy: 0.9012\n",
            "Epoch 16/50\n",
            "54000/54000 [==============================] - 5s 101us/step - loss: 0.1812 - accuracy: 0.9270 - val_loss: 0.2446 - val_accuracy: 0.9037\n",
            "Epoch 17/50\n",
            "54000/54000 [==============================] - 5s 101us/step - loss: 0.1766 - accuracy: 0.9279 - val_loss: 0.2458 - val_accuracy: 0.9028\n",
            "Epoch 18/50\n",
            "54000/54000 [==============================] - 5s 101us/step - loss: 0.1678 - accuracy: 0.9325 - val_loss: 0.2627 - val_accuracy: 0.9002\n",
            "Epoch 19/50\n",
            "54000/54000 [==============================] - 5s 102us/step - loss: 0.1621 - accuracy: 0.9352 - val_loss: 0.2736 - val_accuracy: 0.9003\n",
            "Epoch 20/50\n",
            "54000/54000 [==============================] - 5s 101us/step - loss: 0.1579 - accuracy: 0.9361 - val_loss: 0.2653 - val_accuracy: 0.9068\n",
            "Epoch 21/50\n",
            "54000/54000 [==============================] - 5s 100us/step - loss: 0.1516 - accuracy: 0.9386 - val_loss: 0.2789 - val_accuracy: 0.9013\n",
            "Epoch 22/50\n",
            "54000/54000 [==============================] - 5s 101us/step - loss: 0.1448 - accuracy: 0.9423 - val_loss: 0.2966 - val_accuracy: 0.8893\n",
            "Epoch 23/50\n",
            "54000/54000 [==============================] - 5s 101us/step - loss: 0.1366 - accuracy: 0.9455 - val_loss: 0.2722 - val_accuracy: 0.9038\n",
            "Epoch 24/50\n",
            "54000/54000 [==============================] - 5s 101us/step - loss: 0.1371 - accuracy: 0.9448 - val_loss: 0.3002 - val_accuracy: 0.8987\n",
            "Epoch 25/50\n",
            "54000/54000 [==============================] - 5s 102us/step - loss: 0.1301 - accuracy: 0.9485 - val_loss: 0.3032 - val_accuracy: 0.9000\n",
            "Epoch 26/50\n",
            "54000/54000 [==============================] - 5s 101us/step - loss: 0.1264 - accuracy: 0.9489 - val_loss: 0.2970 - val_accuracy: 0.8998\n",
            "Epoch 27/50\n",
            "54000/54000 [==============================] - 5s 102us/step - loss: 0.1254 - accuracy: 0.9497 - val_loss: 0.3650 - val_accuracy: 0.8843\n",
            "Epoch 28/50\n",
            "54000/54000 [==============================] - 6s 102us/step - loss: 0.1134 - accuracy: 0.9546 - val_loss: 0.3032 - val_accuracy: 0.9010\n",
            "Epoch 29/50\n",
            "54000/54000 [==============================] - 5s 101us/step - loss: 0.1126 - accuracy: 0.9554 - val_loss: 0.3598 - val_accuracy: 0.8915\n",
            "Epoch 30/50\n",
            "54000/54000 [==============================] - 5s 101us/step - loss: 0.1124 - accuracy: 0.9550 - val_loss: 0.3027 - val_accuracy: 0.9052\n",
            "Epoch 31/50\n",
            "54000/54000 [==============================] - 5s 101us/step - loss: 0.1139 - accuracy: 0.9554 - val_loss: 0.2938 - val_accuracy: 0.9060\n",
            "Epoch 32/50\n",
            "54000/54000 [==============================] - 5s 101us/step - loss: 0.1041 - accuracy: 0.9584 - val_loss: 0.3213 - val_accuracy: 0.9013\n",
            "Epoch 33/50\n",
            "54000/54000 [==============================] - 5s 102us/step - loss: 0.1033 - accuracy: 0.9583 - val_loss: 0.3378 - val_accuracy: 0.8905\n",
            "Epoch 34/50\n",
            "54000/54000 [==============================] - 5s 102us/step - loss: 0.1029 - accuracy: 0.9589 - val_loss: 0.3122 - val_accuracy: 0.9053\n",
            "Epoch 35/50\n",
            "54000/54000 [==============================] - 5s 102us/step - loss: 0.1016 - accuracy: 0.9601 - val_loss: 0.2942 - val_accuracy: 0.9050\n",
            "Epoch 36/50\n",
            "54000/54000 [==============================] - 5s 101us/step - loss: 0.0894 - accuracy: 0.9653 - val_loss: 0.2843 - val_accuracy: 0.9013\n",
            "Epoch 37/50\n",
            "54000/54000 [==============================] - 5s 101us/step - loss: 0.0854 - accuracy: 0.9663 - val_loss: 0.3496 - val_accuracy: 0.9007\n",
            "Epoch 38/50\n",
            "54000/54000 [==============================] - 5s 101us/step - loss: 0.0924 - accuracy: 0.9639 - val_loss: 0.3389 - val_accuracy: 0.8993\n",
            "Epoch 39/50\n",
            "54000/54000 [==============================] - 5s 102us/step - loss: 0.0886 - accuracy: 0.9649 - val_loss: 0.3203 - val_accuracy: 0.9040\n",
            "Epoch 40/50\n",
            "54000/54000 [==============================] - 5s 101us/step - loss: 0.0843 - accuracy: 0.9672 - val_loss: 0.3235 - val_accuracy: 0.8965\n",
            "Epoch 41/50\n",
            "54000/54000 [==============================] - 5s 102us/step - loss: 0.0945 - accuracy: 0.9646 - val_loss: 0.3788 - val_accuracy: 0.8972\n",
            "Epoch 42/50\n",
            "54000/54000 [==============================] - 6s 105us/step - loss: 0.0795 - accuracy: 0.9693 - val_loss: 0.3689 - val_accuracy: 0.9032\n",
            "Epoch 43/50\n",
            "54000/54000 [==============================] - 6s 102us/step - loss: 0.0773 - accuracy: 0.9696 - val_loss: 0.3409 - val_accuracy: 0.9050\n",
            "Epoch 44/50\n",
            "54000/54000 [==============================] - 5s 101us/step - loss: 0.0829 - accuracy: 0.9679 - val_loss: 0.3597 - val_accuracy: 0.9023\n",
            "Epoch 45/50\n",
            "54000/54000 [==============================] - 5s 101us/step - loss: 0.0758 - accuracy: 0.9706 - val_loss: 0.3664 - val_accuracy: 0.9043\n",
            "Epoch 46/50\n",
            "54000/54000 [==============================] - 5s 100us/step - loss: 0.0720 - accuracy: 0.9725 - val_loss: 0.3987 - val_accuracy: 0.8977\n",
            "Epoch 47/50\n",
            "54000/54000 [==============================] - 5s 100us/step - loss: 0.0726 - accuracy: 0.9716 - val_loss: 0.4601 - val_accuracy: 0.8815\n",
            "Epoch 48/50\n",
            "54000/54000 [==============================] - 5s 101us/step - loss: 0.0789 - accuracy: 0.9696 - val_loss: 0.3922 - val_accuracy: 0.9010\n",
            "Epoch 49/50\n",
            "54000/54000 [==============================] - 5s 101us/step - loss: 0.0745 - accuracy: 0.9716 - val_loss: 0.3598 - val_accuracy: 0.8965\n",
            "Epoch 50/50\n",
            "54000/54000 [==============================] - 5s 101us/step - loss: 0.0738 - accuracy: 0.9714 - val_loss: 0.3941 - val_accuracy: 0.8963\n"
          ],
          "name": "stdout"
        }
      ]
    },
    {
      "cell_type": "code",
      "metadata": {
        "colab_type": "code",
        "id": "abidP9wIKeQQ",
        "colab": {}
      },
      "source": [
        ""
      ],
      "execution_count": null,
      "outputs": []
    },
    {
      "cell_type": "code",
      "metadata": {
        "id": "WKd59TU0c52S",
        "colab_type": "code",
        "colab": {
          "base_uri": "https://localhost:8080/",
          "height": 70
        },
        "outputId": "2b3ecc58-d6cd-462b-b21b-f078b4bf6f81"
      },
      "source": [
        "score = model.evaluate(x_val, y_val)\n",
        "\n",
        "print('Loss: {:.4f}'.format(score[0]))\n",
        "print('Accuracy: {:.4f}'.format(score[1]))"
      ],
      "execution_count": null,
      "outputs": [
        {
          "output_type": "stream",
          "text": [
            "6000/6000 [==============================] - 1s 106us/step\n",
            "Loss: 0.3941\n",
            "Accuracy: 0.8963\n"
          ],
          "name": "stdout"
        }
      ]
    },
    {
      "cell_type": "code",
      "metadata": {
        "id": "fRaZdXgdohp5",
        "colab_type": "code",
        "colab": {
          "base_uri": "https://localhost:8080/",
          "height": 248
        },
        "outputId": "57acf072-48e2-403f-b64f-6719d3fd72c8"
      },
      "source": [
        "preds = model.predict_classes(test_x)\n",
        "print(preds)\n",
        "output=pd.DataFrame({'Id':test_df['Id'],'Label':preds})\n",
        "print(test_df['Id'])\n",
        "output.to_csv('output.csv',index=False)"
      ],
      "execution_count": null,
      "outputs": [
        {
          "output_type": "stream",
          "text": [
            "[4 4 0 ... 4 2 2]\n",
            "0          0\n",
            "1          1\n",
            "2          2\n",
            "3          3\n",
            "4          4\n",
            "        ... \n",
            "9995    9995\n",
            "9996    9996\n",
            "9997    9997\n",
            "9998    9998\n",
            "9999    9999\n",
            "Name: Id, Length: 10000, dtype: int64\n"
          ],
          "name": "stdout"
        }
      ]
    },
    {
      "cell_type": "code",
      "metadata": {
        "id": "o_bf-EAqvQa7",
        "colab_type": "code",
        "colab": {
          "base_uri": "https://localhost:8080/",
          "height": 351
        },
        "outputId": "35a0d7e2-fd3e-435e-b032-2e6127c0d7ce"
      },
      "source": [
        "# Visualisation\n",
        "import matplotlib as mpl\n",
        "import matplotlib.pyplot as plt\n",
        "import matplotlib.pylab as pylab\n",
        "import seaborn as sns\n",
        "import missingno as msno\n",
        "\n",
        "plt.plot(history1.history['loss'])\n",
        "plt.plot(history1.history['val_loss'])\n",
        "plt.title(\"Model Loss\")\n",
        "plt.xlabel('Epochs')\n",
        "plt.ylabel('Loss')\n",
        "plt.legend(['Train', 'Test'])\n",
        "plt.show()"
      ],
      "execution_count": null,
      "outputs": [
        {
          "output_type": "stream",
          "text": [
            "/usr/local/lib/python3.6/dist-packages/statsmodels/tools/_testing.py:19: FutureWarning: pandas.util.testing is deprecated. Use the functions in the public API at pandas.testing instead.\n",
            "  import pandas.util.testing as tm\n"
          ],
          "name": "stderr"
        },
        {
          "output_type": "display_data",
          "data": {
            "image/png": "[encoded data removed]",
            "text/plain": [
              "<Figure size 432x288 with 1 Axes>"
            ]
          },
          "metadata": {
            "tags": [],
            "needs_background": "light"
          }
        }
      ]
    },
    {
      "cell_type": "code",
      "metadata": {
        "id": "8TkIqSiTwlVP",
        "colab_type": "code",
        "colab": {
          "base_uri": "https://localhost:8080/",
          "height": 295
        },
        "outputId": "6294f6af-ae10-409b-eae0-6f9d24ef487c"
      },
      "source": [
        "plt.plot(history1.history['accuracy'])\n",
        "plt.plot(history1.history['val_accuracy'])\n",
        "plt.title(\"Model Accuracy\")\n",
        "plt.xlabel('Epochs')\n",
        "plt.ylabel('Accuracy')\n",
        "plt.legend(['Train', 'Test'])\n",
        "plt.show()"
      ],
      "execution_count": null,
      "outputs": [
        {
          "output_type": "display_data",
          "data": {
            "image/png": "[encoded data removed]",
            "text/plain": [
              "<Figure size 432x288 with 1 Axes>"
            ]
          },
          "metadata": {
            "tags": [],
            "needs_background": "light"
          }
        }
      ]
    }
  ]
}